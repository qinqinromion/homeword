{
 "cells": [
  {
   "cell_type": "code",
   "execution_count": 2,
   "id": "569f39f7-2df2-4e96-8b42-8ee84bfd4334",
   "metadata": {
    "tags": []
   },
   "outputs": [
    {
     "name": "stdout",
     "output_type": "stream",
     "text": [
      "1\n",
      "0\n"
     ]
    }
   ],
   "source": [
    "def a():\n",
    "    print(\"1\")\n",
    "    return 0\n",
    "print(a())"
   ]
  },
  {
   "cell_type": "code",
   "execution_count": null,
   "id": "8c2d8fef-79b8-46b1-8576-533866bc2cfe",
   "metadata": {},
   "outputs": [],
   "source": [
    "wonimadewoqunimade\n",
    "wugongliawoainia,wugoneliawoainiawugonliawoainia\n",
    "chuleniwobunenggandaoyisisiqingyai "
   ]
  }
 ],
 "metadata": {
  "kernelspec": {
   "display_name": "Python 3 (ipykernel)",
   "language": "python",
   "name": "python3"
  },
  "language_info": {
   "codemirror_mode": {
    "name": "ipython",
    "version": 3
   },
   "file_extension": ".py",
   "mimetype": "text/x-python",
   "name": "python",
   "nbconvert_exporter": "python",
   "pygments_lexer": "ipython3",
   "version": "3.11.3"
  }
 },
 "nbformat": 4,
 "nbformat_minor": 5
}
